{
 "cells": [
  {
   "cell_type": "code",
   "execution_count": 7,
   "metadata": {},
   "outputs": [
    {
     "name": "stdout",
     "output_type": "stream",
     "text": [
      "Our matrix is:  \n",
      "\n",
      "[[ 4  7]\n",
      " [ 6 13]\n",
      " [ 5  9]\n",
      " [10  2]\n",
      " [ 8 10]]\n",
      "Distance from [4 7] and  [ 6 13] is: 6.324555320336759\n",
      "Distance from [4 7] and  [5 9] is: 2.23606797749979\n",
      "Distance from [4 7] and  [10  2] is: 7.810249675906654\n",
      "Distance from [4 7] and  [ 8 10] is: 5.0\n",
      "Distance from first point to the others is:  \n",
      "\n",
      "[6.324555320336759, 2.23606797749979, 7.810249675906654, 5.0] \n",
      "\n",
      "Distance among all points is in matrix above:  \n",
      "\n",
      "[[0.         4.08848734 1.48569436 1.32455532]\n",
      " [4.08848734 0.         5.5741817  2.76393202]\n",
      " [1.48569436 5.5741817  0.         2.81024968]\n",
      " [1.32455532 2.76393202 2.81024968 0.        ]] \n",
      "\n",
      "This is a dictionary of distances:  \n",
      "\n",
      "{'Distance between [4 7]and [ 6 13]': 6.324555320336759, 'Distance between [ 6 13]and [5 9]': 2.23606797749979, 'Distance between [5 9]and [10  2]': 7.810249675906654, 'Distance between [10  2]and [ 8 10]': 5.0} \n",
      "\n",
      "Maximum distance from first point is 7.810249675906654\n"
     ]
    },
    {
     "data": {
      "image/png": "[encoded data removed]",
      "text/plain": [
       "<Figure size 432x288 with 1 Axes>"
      ]
     },
     "metadata": {
      "needs_background": "light"
     },
     "output_type": "display_data"
    }
   ],
   "source": [
    "import numpy as np\n",
    "from matplotlib import pyplot as plt\n",
    "\n",
    "def create_points(min_number, max_number, rows, columns):\n",
    "    '''It returns desired matrix'''\n",
    "    np.random.seed(1234) #it sets seed\n",
    "    return np.random.randint(min_number, max_number, (rows, columns)) #it returns matrix\n",
    "\n",
    "def plot_points(array):\n",
    "    '''It plots cities points'''\n",
    "    x = array[:, 0] # x points\n",
    "    y = array[:, 1] # y points\n",
    "    plt.plot(x, y, 'ro') # plot points\n",
    "    plt.show() #it shows\n",
    "    \n",
    "def distance_from_first_point(array, rows):\n",
    "    '''It returns strings with distances from first point'''\n",
    "    lst = [] #it creates an empty list\n",
    "    for i in range(rows-1): #iterate over the number of rows - 1\n",
    "        print('Distance from ' + str(array[0] ) + ' and  ' + str(array[i+1]) + ' is: ' + str(np.sqrt(np.abs((array[i+1][0] - array[0][0])**2 + (array[i+1][1] - array[0][1])**2)))) #it prints strings out\n",
    "        lst.append(np.sqrt(np.abs((array[i+1][0] - array[0][0])**2 + (array[i+1][1] - array[0][1])**2))) #it append on lst list\n",
    "    return lst #it returns list\n",
    "\n",
    "def dict_distance(array, rows):\n",
    "    '''It returns a dictionary with distances between points'''\n",
    "    return {str('Distance between ' + str(array[i]) + 'and ' + str(array[i+1])) : np.sqrt(np.abs((array[i+1][0] - array[0][0])**2 + (array[i+1][1] - array[0][1])**2)) for i in range(rows-1)} #it returns dictionary with distances\n",
    "\n",
    "def distance_among_all_points(list_of_distances):\n",
    "    '''This function makes broadcasting to create a matrix with distances point-to-point'''\n",
    "    array_like = np.array(list_of_distances) #it converts the list into a NumPy array \n",
    "    distance_array = np.abs(array_like - array_like[:, np.newaxis]) #broadcasting\n",
    "    return distance_array #it returns the array\n",
    "\n",
    "def colorbar(distance):\n",
    "    '''It shows a colorbar with grid'''\n",
    "    return plt.pcolor(distance) #it shows the colorbar\n",
    "\n",
    "def main():\n",
    "    '''It is the main function'''\n",
    "    min_n = 1 #setting minimum number\n",
    "    max_n = 15 #setting maximum number\n",
    "    r = 5 #setting number of rows\n",
    "    c = 2 #setting number of columns\n",
    "    m = create_points(min_n, max_n, r, c) #it creates matrix of cities\n",
    "    print('Our matrix is: ', '\\n')\n",
    "    print(m)\n",
    "    dist_first_point = distance_from_first_point(m, r) #distances from first point\n",
    "    print('Distance from first point to the others is: ', '\\n')\n",
    "    print(dist_first_point, '\\n')\n",
    "    distance_matrix = distance_among_all_points(dist_first_point) #it creates distance matrix\n",
    "    print('Distance among all points is in matrix above: ', '\\n')\n",
    "    print(distance_matrix, '\\n')\n",
    "    dictionary_of_distances = dict_distance(m, r)\n",
    "    print('This is a dictionary of distances: ', '\\n')\n",
    "    print(dictionary_of_distances, '\\n')\n",
    "    print('Maximum distance from first point is ' + str(max(dictionary_of_distances.values()))) \n",
    "    colorbar(distance_matrix)\n",
    "\n",
    "if __name__ == '__main__':\n",
    "    main()"
   ]
  },
  {
   "cell_type": "code",
   "execution_count": null,
   "metadata": {},
   "outputs": [],
   "source": []
  }
 ],
 "metadata": {
  "kernelspec": {
   "display_name": "Python 3",
   "language": "python",
   "name": "python3"
  },
  "language_info": {
   "codemirror_mode": {
    "name": "ipython",
    "version": 3
   },
   "file_extension": ".py",
   "mimetype": "text/x-python",
   "name": "python",
   "nbconvert_exporter": "python",
   "pygments_lexer": "ipython3",
   "version": "3.7.9"
  }
 },
 "nbformat": 4,
 "nbformat_minor": 4
}
